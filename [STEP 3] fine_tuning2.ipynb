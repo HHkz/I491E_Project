{
 "cells": [
  {
   "cell_type": "markdown",
   "metadata": {},
   "source": [
    "The same as before."
   ]
  },
  {
   "cell_type": "code",
   "execution_count": 1,
   "id": "6be37a19-0aaf-4176-8c8f-76d219256cfd",
   "metadata": {
    "tags": []
   },
   "outputs": [],
   "source": [
    "import pandas as pd\n",
    "import Utils.dataset_processing as dp\n",
    "\n",
    "sup_data_path = 'Data/train_data_labeled.jsonl'\n",
    "Super_datatable = dp.read_json_to_table(sup_data_path)"
   ]
  },
  {
   "cell_type": "code",
   "execution_count": 2,
   "id": "9e87ccc3-91e4-40df-86f2-368822f89645",
   "metadata": {
    "tags": []
   },
   "outputs": [],
   "source": [
    "from transformers import AutoTokenizer\n",
    "\n",
    "tokenizer = AutoTokenizer.from_pretrained(\"roberta-large\")"
   ]
  },
  {
   "cell_type": "code",
   "execution_count": 3,
   "id": "1897df10-ad53-45e2-bd97-4272df4ffd89",
   "metadata": {
    "tags": []
   },
   "outputs": [],
   "source": [
    "superdata_loader = dp.dataset_loader(Super_datatable, tokenizer)"
   ]
  },
  {
   "cell_type": "code",
   "execution_count": 4,
   "id": "7faef42c-ede3-4e74-9ea6-bc9027fe7844",
   "metadata": {
    "tags": []
   },
   "outputs": [],
   "source": [
    "from torch.utils.data import random_split\n",
    "\n",
    "data1, data2 = random_split(superdata_loader, [0.7, 0.3])"
   ]
  },
  {
   "cell_type": "code",
   "execution_count": 5,
   "id": "deffde7b-8cd4-43e3-9cef-8f84ca11a2ab",
   "metadata": {
    "tags": []
   },
   "outputs": [],
   "source": [
    "data1_loader = dp.load_data(data1, 18)\n",
    "data2_loader = dp.load_data(data2, 16)\n",
    "full_loader = dp.load_data(superdata_loader, 16)"
   ]
  },
  {
   "cell_type": "code",
   "execution_count": 6,
   "id": "e020d307-e13a-44ef-99aa-f4b34b58980b",
   "metadata": {
    "tags": []
   },
   "outputs": [
    {
     "name": "stderr",
     "output_type": "stream",
     "text": [
      "Some weights of RobertaModel were not initialized from the model checkpoint at roberta-large and are newly initialized: ['roberta.pooler.dense.bias', 'roberta.pooler.dense.weight']\n",
      "You should probably TRAIN this model on a down-stream task to be able to use it for predictions and inference.\n"
     ]
    },
    {
     "name": "stdout",
     "output_type": "stream",
     "text": [
      "Epoch   1 /   7\n"
     ]
    },
    {
     "data": {
      "application/vnd.jupyter.widget-view+json": {
       "model_id": "43d802ff4e8544a1b03274465fafb15c",
       "version_major": 2,
       "version_minor": 0
      },
      "text/plain": [
       "  0%|0/31[00:00<?]"
      ]
     },
     "metadata": {},
     "output_type": "display_data"
    },
    {
     "name": "stdout",
     "output_type": "stream",
     "text": [
      "val_loss:0.7314, val_acc:0.7669\n",
      ">>>>>>>>>>>>>>>>>>>>>>>Best result:0.7669>>>>>>>>>>>>>>>>>>>>>>>\n",
      "Epoch   2 /   7\n"
     ]
    },
    {
     "data": {
      "application/vnd.jupyter.widget-view+json": {
       "model_id": "0c4aab62871640e997d77d0407b6087d",
       "version_major": 2,
       "version_minor": 0
      },
      "text/plain": [
       "  0%|0/31[00:00<?]"
      ]
     },
     "metadata": {},
     "output_type": "display_data"
    },
    {
     "name": "stdout",
     "output_type": "stream",
     "text": [
      "val_loss:0.6767, val_acc:0.7754\n",
      ">>>>>>>>>>>>>>>>>>>>>>>Best result:0.7754>>>>>>>>>>>>>>>>>>>>>>>\n",
      "Epoch   3 /   7\n"
     ]
    },
    {
     "data": {
      "application/vnd.jupyter.widget-view+json": {
       "model_id": "35cb35cc97804c379bf31e13ec62b2f4",
       "version_major": 2,
       "version_minor": 0
      },
      "text/plain": [
       "  0%|0/31[00:00<?]"
      ]
     },
     "metadata": {},
     "output_type": "display_data"
    },
    {
     "name": "stdout",
     "output_type": "stream",
     "text": [
      "val_loss:0.7132, val_acc:0.7881\n",
      ">>>>>>>>>>>>>>>>>>>>>>>Best result:0.7881>>>>>>>>>>>>>>>>>>>>>>>\n",
      "Epoch   4 /   7\n"
     ]
    },
    {
     "data": {
      "application/vnd.jupyter.widget-view+json": {
       "model_id": "27319e14681b48a6be5dd84249750dae",
       "version_major": 2,
       "version_minor": 0
      },
      "text/plain": [
       "  0%|0/31[00:00<?]"
      ]
     },
     "metadata": {},
     "output_type": "display_data"
    },
    {
     "name": "stdout",
     "output_type": "stream",
     "text": [
      "val_loss:0.8328, val_acc:0.7542\n",
      "Epoch   5 /   7\n"
     ]
    },
    {
     "data": {
      "application/vnd.jupyter.widget-view+json": {
       "model_id": "dce740fa74eb4415a01c0998fb990053",
       "version_major": 2,
       "version_minor": 0
      },
      "text/plain": [
       "  0%|0/31[00:00<?]"
      ]
     },
     "metadata": {},
     "output_type": "display_data"
    },
    {
     "name": "stdout",
     "output_type": "stream",
     "text": [
      "val_loss:0.8652, val_acc:0.7458\n",
      "Epoch   6 /   7\n"
     ]
    },
    {
     "data": {
      "application/vnd.jupyter.widget-view+json": {
       "model_id": "558cb3247d894283ad99d90b63571973",
       "version_major": 2,
       "version_minor": 0
      },
      "text/plain": [
       "  0%|0/31[00:00<?]"
      ]
     },
     "metadata": {},
     "output_type": "display_data"
    },
    {
     "name": "stdout",
     "output_type": "stream",
     "text": [
      "val_loss:0.8469, val_acc:0.7373\n",
      "Epoch   7 /   7\n"
     ]
    },
    {
     "data": {
      "application/vnd.jupyter.widget-view+json": {
       "model_id": "628df8b3a3314b77b74fdda929095d67",
       "version_major": 2,
       "version_minor": 0
      },
      "text/plain": [
       "  0%|0/31[00:00<?]"
      ]
     },
     "metadata": {},
     "output_type": "display_data"
    },
    {
     "name": "stdout",
     "output_type": "stream",
     "text": [
      "val_loss:0.8523, val_acc:0.7542\n"
     ]
    }
   ],
   "source": [
    "import robust_loss\n",
    "import model\n",
    "import torch\n",
    "import Utils.train as tr\n",
    "import torch.nn as nn\n",
    "\n",
    "model = model.RoBERTa_Classify(\"roberta-large\", 3)\n",
    "model.load_state_dict(torch.load(\"_PFTed.model\"))\n",
    "\n",
    "model_stad = model.state_dict()\n",
    "for name, para in model.named_parameters(): \n",
    "    model_stad[name][:] += (torch.rand(para.size())-0.5) * 0.05 * torch.std(para)\n",
    "model.load_state_dict(model_stad)\n",
    "model.cuda()\n",
    "\n",
    "newloss = nn.CrossEntropyLoss(label_smoothing = 0.1)\n",
    "opt = torch.optim.Adam(filter(lambda p: p.requires_grad, model.parameters()), lr = 2.04e-5, weight_decay = 0.96e-5)\n",
    "model.compile(opt, newloss)\n",
    "\n",
    "tr.train_classify_model(\n",
    "    model,\n",
    "    7,\n",
    "#    data1_loader,\n",
    "#    data2_loader,\n",
    "    data1_loader,\n",
    "    data2_loader,\n",
    "    save_best = 'acc'\n",
    ") "
   ]
  },
  {
   "cell_type": "code",
   "execution_count": 7,
   "id": "e193e477-5bf7-49d0-8fec-c9122465e26b",
   "metadata": {},
   "outputs": [],
   "source": [
    "torch.save(model.state_dict(), \"_fine_tuned_2.model\")"
   ]
  },
  {
   "cell_type": "code",
   "execution_count": 8,
   "id": "3a0ac383-77b4-412c-9fa8-42c54f223a4d",
   "metadata": {
    "tags": []
   },
   "outputs": [],
   "source": [
    "import numpy as np\n",
    "import pickle\n",
    "\n",
    "seed = np.random.get_state()\n",
    "\n",
    "with open(\"_step3_2_randomseed.pk\", \"wb\") as file:\n",
    "    pickle.dump(seed, file)"
   ]
  }
 ],
 "metadata": {
  "kernelspec": {
   "display_name": "Python 3 (ipykernel)",
   "language": "python",
   "name": "python3"
  },
  "language_info": {
   "codemirror_mode": {
    "name": "ipython",
    "version": 3
   },
   "file_extension": ".py",
   "mimetype": "text/x-python",
   "name": "python",
   "nbconvert_exporter": "python",
   "pygments_lexer": "ipython3",
   "version": "3.11.6"
  }
 },
 "nbformat": 4,
 "nbformat_minor": 5
}
