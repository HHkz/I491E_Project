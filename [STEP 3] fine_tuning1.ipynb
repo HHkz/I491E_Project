{
 "cells": [
  {
   "cell_type": "code",
   "execution_count": 1,
   "id": "6be37a19-0aaf-4176-8c8f-76d219256cfd",
   "metadata": {
    "tags": []
   },
   "outputs": [],
   "source": [
    "import pandas as pd\n",
    "import Utils.dataset_processing as dp\n",
    "\n",
    "sup_data_path = 'Data/train_data_labeled.jsonl'\n",
    "Super_datatable = dp.read_json_to_table(sup_data_path)"
   ]
  },
  {
   "cell_type": "code",
   "execution_count": 2,
   "id": "9e87ccc3-91e4-40df-86f2-368822f89645",
   "metadata": {
    "tags": []
   },
   "outputs": [],
   "source": [
    "from transformers import AutoTokenizer\n",
    "\n",
    "tokenizer = AutoTokenizer.from_pretrained(\"roberta-large\")"
   ]
  },
  {
   "cell_type": "code",
   "execution_count": 3,
   "id": "1897df10-ad53-45e2-bd97-4272df4ffd89",
   "metadata": {
    "tags": []
   },
   "outputs": [],
   "source": [
    "superdata_loader = dp.dataset_loader(Super_datatable, tokenizer)"
   ]
  },
  {
   "cell_type": "code",
   "execution_count": 4,
   "id": "7faef42c-ede3-4e74-9ea6-bc9027fe7844",
   "metadata": {
    "tags": []
   },
   "outputs": [],
   "source": [
    "from torch.utils.data import random_split\n",
    "\n",
    "data1, data2 = random_split(superdata_loader, [0.7, 0.3])"
   ]
  },
  {
   "cell_type": "code",
   "execution_count": 5,
   "id": "deffde7b-8cd4-43e3-9cef-8f84ca11a2ab",
   "metadata": {
    "tags": []
   },
   "outputs": [],
   "source": [
    "data1_loader = dp.load_data(data1, 16)\n",
    "data2_loader = dp.load_data(data2, 16)\n",
    "full_loader = dp.load_data(superdata_loader, 16)"
   ]
  },
  {
   "cell_type": "code",
   "execution_count": 6,
   "id": "e020d307-e13a-44ef-99aa-f4b34b58980b",
   "metadata": {
    "tags": []
   },
   "outputs": [
    {
     "name": "stderr",
     "output_type": "stream",
     "text": [
      "Some weights of RobertaModel were not initialized from the model checkpoint at roberta-large and are newly initialized: ['roberta.pooler.dense.weight', 'roberta.pooler.dense.bias']\n",
      "You should probably TRAIN this model on a down-stream task to be able to use it for predictions and inference.\n"
     ]
    },
    {
     "name": "stdout",
     "output_type": "stream",
     "text": [
      "Epoch   1 /  20\n"
     ]
    },
    {
     "data": {
      "application/vnd.jupyter.widget-view+json": {
       "model_id": "2ee31e7d1f124a42b0aa9ad38ee1f6f0",
       "version_major": 2,
       "version_minor": 0
      },
      "text/plain": [
       "  0%|0/35[00:00<?]"
      ]
     },
     "metadata": {},
     "output_type": "display_data"
    },
    {
     "name": "stdout",
     "output_type": "stream",
     "text": [
      "val_loss:0.7651, val_acc:0.7415\n",
      ">>>>>>>>>>>>>>>>>>>>>>>Best result:0.7415>>>>>>>>>>>>>>>>>>>>>>>\n",
      "Epoch   2 /  20\n"
     ]
    },
    {
     "data": {
      "application/vnd.jupyter.widget-view+json": {
       "model_id": "e4a0983f84134379a2127967e3d0e994",
       "version_major": 2,
       "version_minor": 0
      },
      "text/plain": [
       "  0%|0/35[00:00<?]"
      ]
     },
     "metadata": {},
     "output_type": "display_data"
    },
    {
     "name": "stdout",
     "output_type": "stream",
     "text": [
      "val_loss:0.7042, val_acc:0.7669\n",
      ">>>>>>>>>>>>>>>>>>>>>>>Best result:0.7669>>>>>>>>>>>>>>>>>>>>>>>\n",
      "Epoch   3 /  20\n"
     ]
    },
    {
     "data": {
      "application/vnd.jupyter.widget-view+json": {
       "model_id": "d3b0c419ae6a4b6bb553e1d693463286",
       "version_major": 2,
       "version_minor": 0
      },
      "text/plain": [
       "  0%|0/35[00:00<?]"
      ]
     },
     "metadata": {},
     "output_type": "display_data"
    },
    {
     "name": "stdout",
     "output_type": "stream",
     "text": [
      "val_loss:0.7069, val_acc:0.7839\n",
      ">>>>>>>>>>>>>>>>>>>>>>>Best result:0.7839>>>>>>>>>>>>>>>>>>>>>>>\n",
      "Epoch   4 /  20\n"
     ]
    },
    {
     "data": {
      "application/vnd.jupyter.widget-view+json": {
       "model_id": "674cb331cc96498cbc3125a05a3c93eb",
       "version_major": 2,
       "version_minor": 0
      },
      "text/plain": [
       "  0%|0/35[00:00<?]"
      ]
     },
     "metadata": {},
     "output_type": "display_data"
    },
    {
     "name": "stdout",
     "output_type": "stream",
     "text": [
      "val_loss:0.7977, val_acc:0.7627\n",
      "Epoch   5 /  20\n"
     ]
    },
    {
     "data": {
      "application/vnd.jupyter.widget-view+json": {
       "model_id": "871b892518ae485cad5c5bf9ba83b7eb",
       "version_major": 2,
       "version_minor": 0
      },
      "text/plain": [
       "  0%|0/35[00:00<?]"
      ]
     },
     "metadata": {},
     "output_type": "display_data"
    },
    {
     "name": "stdout",
     "output_type": "stream",
     "text": [
      "val_loss:0.8603, val_acc:0.7627\n",
      "Epoch   6 /  20\n"
     ]
    },
    {
     "data": {
      "application/vnd.jupyter.widget-view+json": {
       "model_id": "385c5382a82745c1b0709fd15c25f36c",
       "version_major": 2,
       "version_minor": 0
      },
      "text/plain": [
       "  0%|0/35[00:00<?]"
      ]
     },
     "metadata": {},
     "output_type": "display_data"
    },
    {
     "name": "stdout",
     "output_type": "stream",
     "text": [
      "val_loss:0.8775, val_acc:0.7415\n",
      "Epoch   7 /  20\n"
     ]
    },
    {
     "data": {
      "application/vnd.jupyter.widget-view+json": {
       "model_id": "d5eab90ca9b543559d137621bcb9d8f1",
       "version_major": 2,
       "version_minor": 0
      },
      "text/plain": [
       "  0%|0/35[00:00<?]"
      ]
     },
     "metadata": {},
     "output_type": "display_data"
    },
    {
     "name": "stdout",
     "output_type": "stream",
     "text": [
      "val_loss:0.9342, val_acc:0.7585\n",
      "Epoch   8 /  20\n"
     ]
    },
    {
     "data": {
      "application/vnd.jupyter.widget-view+json": {
       "model_id": "97488f1040d84a2f838b011b310383ce",
       "version_major": 2,
       "version_minor": 0
      },
      "text/plain": [
       "  0%|0/35[00:00<?]"
      ]
     },
     "metadata": {},
     "output_type": "display_data"
    },
    {
     "name": "stdout",
     "output_type": "stream",
     "text": [
      "val_loss:0.8542, val_acc:0.7500\n",
      "Epoch   9 /  20\n"
     ]
    },
    {
     "data": {
      "application/vnd.jupyter.widget-view+json": {
       "model_id": "b3c139138c3a4fa5bd4891baf783b7ec",
       "version_major": 2,
       "version_minor": 0
      },
      "text/plain": [
       "  0%|0/35[00:00<?]"
      ]
     },
     "metadata": {},
     "output_type": "display_data"
    },
    {
     "name": "stdout",
     "output_type": "stream",
     "text": [
      "val_loss:0.8021, val_acc:0.7712\n",
      "Epoch  10 /  20\n"
     ]
    },
    {
     "data": {
      "application/vnd.jupyter.widget-view+json": {
       "model_id": "9738f60d5b9b45e4833f78978f5cf80b",
       "version_major": 2,
       "version_minor": 0
      },
      "text/plain": [
       "  0%|0/35[00:00<?]"
      ]
     },
     "metadata": {},
     "output_type": "display_data"
    },
    {
     "name": "stdout",
     "output_type": "stream",
     "text": [
      "val_loss:0.9650, val_acc:0.7373\n",
      "Epoch  11 /  20\n"
     ]
    },
    {
     "data": {
      "application/vnd.jupyter.widget-view+json": {
       "model_id": "fcee857cca2c420997d95b22613616e6",
       "version_major": 2,
       "version_minor": 0
      },
      "text/plain": [
       "  0%|0/35[00:00<?]"
      ]
     },
     "metadata": {},
     "output_type": "display_data"
    },
    {
     "name": "stdout",
     "output_type": "stream",
     "text": [
      "val_loss:0.9699, val_acc:0.7373\n",
      "Epoch  12 /  20\n"
     ]
    },
    {
     "data": {
      "application/vnd.jupyter.widget-view+json": {
       "model_id": "cb2001fe19ef460494eab3dd94fdb3ae",
       "version_major": 2,
       "version_minor": 0
      },
      "text/plain": [
       "  0%|0/35[00:00<?]"
      ]
     },
     "metadata": {},
     "output_type": "display_data"
    },
    {
     "name": "stdout",
     "output_type": "stream",
     "text": [
      "val_loss:0.8970, val_acc:0.7415\n",
      "Epoch  13 /  20\n"
     ]
    },
    {
     "data": {
      "application/vnd.jupyter.widget-view+json": {
       "model_id": "80577e082402437cba9408fcadbdd1e1",
       "version_major": 2,
       "version_minor": 0
      },
      "text/plain": [
       "  0%|0/35[00:00<?]"
      ]
     },
     "metadata": {},
     "output_type": "display_data"
    },
    {
     "name": "stdout",
     "output_type": "stream",
     "text": [
      "val_loss:0.8657, val_acc:0.7669\n",
      "Epoch  14 /  20\n"
     ]
    },
    {
     "data": {
      "application/vnd.jupyter.widget-view+json": {
       "model_id": "2654a671223644b6af593086d89895c6",
       "version_major": 2,
       "version_minor": 0
      },
      "text/plain": [
       "  0%|0/35[00:00<?]"
      ]
     },
     "metadata": {},
     "output_type": "display_data"
    },
    {
     "name": "stdout",
     "output_type": "stream",
     "text": [
      "val_loss:0.9388, val_acc:0.7458\n",
      "Epoch  15 /  20\n"
     ]
    },
    {
     "data": {
      "application/vnd.jupyter.widget-view+json": {
       "model_id": "2a68a45151964098a9a6a3e87494f8d3",
       "version_major": 2,
       "version_minor": 0
      },
      "text/plain": [
       "  0%|0/35[00:00<?]"
      ]
     },
     "metadata": {},
     "output_type": "display_data"
    },
    {
     "name": "stdout",
     "output_type": "stream",
     "text": [
      "val_loss:0.9904, val_acc:0.7203\n",
      "Epoch  16 /  20\n"
     ]
    },
    {
     "data": {
      "application/vnd.jupyter.widget-view+json": {
       "model_id": "cb7a7330953747e487a6cfd1e8b4beca",
       "version_major": 2,
       "version_minor": 0
      },
      "text/plain": [
       "  0%|0/35[00:00<?]"
      ]
     },
     "metadata": {},
     "output_type": "display_data"
    },
    {
     "name": "stdout",
     "output_type": "stream",
     "text": [
      "val_loss:0.9344, val_acc:0.7500\n",
      "Epoch  17 /  20\n"
     ]
    },
    {
     "data": {
      "application/vnd.jupyter.widget-view+json": {
       "model_id": "7a30cdfc1eb14dd3917fb2c23c2d3aef",
       "version_major": 2,
       "version_minor": 0
      },
      "text/plain": [
       "  0%|0/35[00:00<?]"
      ]
     },
     "metadata": {},
     "output_type": "display_data"
    },
    {
     "name": "stdout",
     "output_type": "stream",
     "text": [
      "val_loss:0.8862, val_acc:0.7627\n",
      "Epoch  18 /  20\n"
     ]
    },
    {
     "data": {
      "application/vnd.jupyter.widget-view+json": {
       "model_id": "ba7e353ccf2045a0a388c620e330080c",
       "version_major": 2,
       "version_minor": 0
      },
      "text/plain": [
       "  0%|0/35[00:00<?]"
      ]
     },
     "metadata": {},
     "output_type": "display_data"
    },
    {
     "name": "stdout",
     "output_type": "stream",
     "text": [
      "val_loss:0.9007, val_acc:0.7585\n",
      "Epoch  19 /  20\n"
     ]
    },
    {
     "data": {
      "application/vnd.jupyter.widget-view+json": {
       "model_id": "b5aed3fb561f4176bf4515275680fa62",
       "version_major": 2,
       "version_minor": 0
      },
      "text/plain": [
       "  0%|0/35[00:00<?]"
      ]
     },
     "metadata": {},
     "output_type": "display_data"
    },
    {
     "name": "stdout",
     "output_type": "stream",
     "text": [
      "val_loss:0.9063, val_acc:0.7627\n",
      "Epoch  20 /  20\n"
     ]
    },
    {
     "data": {
      "application/vnd.jupyter.widget-view+json": {
       "model_id": "88cc4862caf44c549a64e279789cd06e",
       "version_major": 2,
       "version_minor": 0
      },
      "text/plain": [
       "  0%|0/35[00:00<?]"
      ]
     },
     "metadata": {},
     "output_type": "display_data"
    },
    {
     "name": "stdout",
     "output_type": "stream",
     "text": [
      "val_loss:0.9994, val_acc:0.7331\n"
     ]
    }
   ],
   "source": [
    "import robust_loss\n",
    "import model\n",
    "import torch\n",
    "import Utils.train as tr\n",
    "import torch.nn as nn\n",
    "\n",
    "model = model.RoBERTa_Classify(\"roberta-large\", 3)\n",
    "model.load_state_dict(torch.load(\"_PFTed.model\"))\n",
    "\n",
    "model_stad = model.state_dict()\n",
    "for name, para in model.named_parameters(): \n",
    "    model_stad[name][:] += (torch.rand(para.size())-0.5) * 0.05 * torch.std(para)\n",
    "model.load_state_dict(model_stad)\n",
    "model.cuda()\n",
    "\n",
    "newloss = nn.CrossEntropyLoss(label_smoothing = 0.1)\n",
    "opt = torch.optim.Adam(filter(lambda p: p.requires_grad, model.parameters()), lr = 2e-5, weight_decay = 1e-5)\n",
    "model.compile(opt, newloss)\n",
    "\n",
    "tr.train_classify_model(\n",
    "    model,\n",
    "    20,\n",
    "#    data1_loader,\n",
    "#    data2_loader,\n",
    "    data1_loader,\n",
    "    data2_loader,\n",
    "    save_best = 'acc'\n",
    ") "
   ]
  },
  {
   "cell_type": "code",
   "execution_count": 7,
   "id": "e193e477-5bf7-49d0-8fec-c9122465e26b",
   "metadata": {
    "tags": []
   },
   "outputs": [],
   "source": [
    "torch.save(model.state_dict(), \"_fine_tuned_1.model\")"
   ]
  },
  {
   "cell_type": "code",
   "execution_count": 8,
   "id": "c6cf7ebc-47e0-4727-8557-f5102f214a8f",
   "metadata": {
    "tags": []
   },
   "outputs": [],
   "source": [
    "import numpy as np\n",
    "import pickle\n",
    "\n",
    "seed = np.random.get_state()\n",
    "\n",
    "with open(\"_step3_1_randomseed.pk\", \"wb\") as file:\n",
    "    pickle.dump(seed, file)"
   ]
  }
 ],
 "metadata": {
  "kernelspec": {
   "display_name": "Python 3 (ipykernel)",
   "language": "python",
   "name": "python3"
  },
  "language_info": {
   "codemirror_mode": {
    "name": "ipython",
    "version": 3
   },
   "file_extension": ".py",
   "mimetype": "text/x-python",
   "name": "python",
   "nbconvert_exporter": "python",
   "pygments_lexer": "ipython3",
   "version": "3.11.6"
  }
 },
 "nbformat": 4,
 "nbformat_minor": 5
}
