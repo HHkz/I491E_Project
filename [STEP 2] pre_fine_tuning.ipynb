{
 "cells": [
  {
   "cell_type": "code",
   "execution_count": 1,
   "id": "e7e3449e-9a16-4864-9331-b579c9567979",
   "metadata": {
    "tags": []
   },
   "outputs": [],
   "source": [
    "import pickle\n",
    "\n",
    "seed = None\n",
    "with open('_step1_randomseed.pk', 'rb') as f:\n",
    "    seed = pickle.load(f)\n",
    "\n",
    "import numpy as np\n",
    "np.random.set_state(seed)"
   ]
  },
  {
   "cell_type": "code",
   "execution_count": 2,
   "id": "73e02037-5043-4e2b-a0d2-1fd70feee54c",
   "metadata": {
    "tags": []
   },
   "outputs": [],
   "source": [
    "import pandas as pd\n",
    "import Utils.dataset_processing as dp\n",
    "\n",
    "PFT_dataframe = pd.read_csv('Data/_step1_end2end_labeled_datatable.csv')"
   ]
  },
  {
   "cell_type": "code",
   "execution_count": 3,
   "id": "06f52700-66c3-4ef2-8d98-8a34e92f166f",
   "metadata": {
    "tags": []
   },
   "outputs": [],
   "source": [
    "sup_data_path = 'Data/train_data_labeled.jsonl'\n",
    "\n",
    "PFT_datatable = PFT_dataframe.values.tolist()\n",
    "Super_datatable = dp.read_json_to_table(sup_data_path)"
   ]
  },
  {
   "cell_type": "code",
   "execution_count": 4,
   "id": "b70ce807-b433-4f3a-9f27-825c8fc12efb",
   "metadata": {
    "tags": []
   },
   "outputs": [],
   "source": [
    "from transformers import AutoTokenizer\n",
    "\n",
    "tokenizer = AutoTokenizer.from_pretrained(\"roberta-large\")"
   ]
  },
  {
   "cell_type": "code",
   "execution_count": 5,
   "id": "62dad04b-4360-40c8-a7bb-22867043d328",
   "metadata": {
    "tags": []
   },
   "outputs": [],
   "source": [
    "PFT_loader = dp.dataset_loader(PFT_datatable, tokenizer)\n",
    "V_loader = dp.dataset_loader(Super_datatable, tokenizer)"
   ]
  },
  {
   "cell_type": "code",
   "execution_count": 6,
   "id": "3e66d0fa-5fb3-44b4-9aad-93e353c7c0e4",
   "metadata": {
    "scrolled": true,
    "tags": []
   },
   "outputs": [],
   "source": [
    "traindata = dp.load_data(PFT_loader, 16)\n",
    "vdata = dp.load_data(V_loader, 16)"
   ]
  },
  {
   "cell_type": "code",
   "execution_count": 7,
   "id": "fb837d82-b911-4142-a42a-9e27e8e0aa28",
   "metadata": {
    "tags": []
   },
   "outputs": [
    {
     "name": "stderr",
     "output_type": "stream",
     "text": [
      "Some weights of RobertaModel were not initialized from the model checkpoint at roberta-large and are newly initialized: ['roberta.pooler.dense.bias', 'roberta.pooler.dense.weight']\n",
      "You should probably TRAIN this model on a down-stream task to be able to use it for predictions and inference.\n"
     ]
    },
    {
     "name": "stdout",
     "output_type": "stream",
     "text": [
      "Epoch   1 /   3\n"
     ]
    },
    {
     "data": {
      "application/vnd.jupyter.widget-view+json": {
       "model_id": "62ab068a61dc41978b563f6f17670a07",
       "version_major": 2,
       "version_minor": 0
      },
      "text/plain": [
       "  0%|0/352[00:00<?]"
      ]
     },
     "metadata": {},
     "output_type": "display_data"
    },
    {
     "name": "stdout",
     "output_type": "stream",
     "text": [
      "val_loss:1.3791, val_acc:0.7348\n",
      ">>>>>>>>>>>>>>>>>>>>>>>Best result:1.3791>>>>>>>>>>>>>>>>>>>>>>>\n",
      "Epoch   2 /   3\n"
     ]
    },
    {
     "data": {
      "application/vnd.jupyter.widget-view+json": {
       "model_id": "a3131e1283fd45f6acbc02876e777d4f",
       "version_major": 2,
       "version_minor": 0
      },
      "text/plain": [
       "  0%|0/352[00:00<?]"
      ]
     },
     "metadata": {},
     "output_type": "display_data"
    },
    {
     "name": "stdout",
     "output_type": "stream",
     "text": [
      "val_loss:1.0911, val_acc:0.7716\n",
      ">>>>>>>>>>>>>>>>>>>>>>>Best result:1.0911>>>>>>>>>>>>>>>>>>>>>>>\n",
      "Epoch   3 /   3\n"
     ]
    },
    {
     "data": {
      "application/vnd.jupyter.widget-view+json": {
       "model_id": "67f72c7514604207832036b4102f0be2",
       "version_major": 2,
       "version_minor": 0
      },
      "text/plain": [
       "  0%|0/352[00:00<?]"
      ]
     },
     "metadata": {},
     "output_type": "display_data"
    },
    {
     "name": "stdout",
     "output_type": "stream",
     "text": [
      "val_loss:1.0762, val_acc:0.7665\n",
      ">>>>>>>>>>>>>>>>>>>>>>>Best result:1.0762>>>>>>>>>>>>>>>>>>>>>>>\n"
     ]
    }
   ],
   "source": [
    "import robust_loss\n",
    "import model\n",
    "import torch\n",
    "import Utils.train as tr\n",
    "\n",
    "model = model.RoBERTa_Classify(\"roberta-large\", 3).cuda()\n",
    "for param in model.roberta.parameters():\n",
    "    param.requires_grad = True\n",
    "newloss = robust_loss.NCEandMAE(alpha = 12.0, beta = 0.1, num_classes=3)\n",
    "opt = torch.optim.Adam(filter(lambda p: p.requires_grad, model.parameters()), lr = 1e-5, weight_decay = 1e-5)\n",
    "model.compile(opt, newloss)\n",
    "\n",
    "tr.train_classify_model(\n",
    "    model,\n",
    "    3,\n",
    "    traindata,\n",
    "    vdata,\n",
    "    save_best = 'loss'\n",
    ") "
   ]
  },
  {
   "cell_type": "code",
   "execution_count": 8,
   "id": "67123a2d-01ff-45da-9d9b-7c3f22efdf99",
   "metadata": {
    "tags": []
   },
   "outputs": [],
   "source": [
    "import numpy as np\n",
    "import pickle\n",
    "\n",
    "seed = np.random.get_state()\n",
    "\n",
    "with open(\"_step2_randomseed.pk\", \"wb\") as file:\n",
    "    pickle.dump(seed, file)"
   ]
  },
  {
   "cell_type": "code",
   "execution_count": 9,
   "id": "6341089c-b24f-42d6-b17b-4c1d74260d1f",
   "metadata": {
    "tags": []
   },
   "outputs": [],
   "source": [
    "torch.save(model.state_dict(), \"_PFTed.model\")"
   ]
  }
 ],
 "metadata": {
  "kernelspec": {
   "display_name": "Python 3 (ipykernel)",
   "language": "python",
   "name": "python3"
  },
  "language_info": {
   "codemirror_mode": {
    "name": "ipython",
    "version": 3
   },
   "file_extension": ".py",
   "mimetype": "text/x-python",
   "name": "python",
   "nbconvert_exporter": "python",
   "pygments_lexer": "ipython3",
   "version": "3.11.6"
  }
 },
 "nbformat": 4,
 "nbformat_minor": 5
}
